{
 "cells": [
  {
   "cell_type": "markdown",
   "id": "328d30a5",
   "metadata": {},
   "source": [
    "## Selecting single columns"
   ]
  },
  {
   "cell_type": "code",
   "execution_count": 2,
   "id": "d3a06cca",
   "metadata": {},
   "outputs": [],
   "source": [
    "#Select __\n",
    "#From__"
   ]
  },
  {
   "cell_type": "markdown",
   "id": "6c7a8991",
   "metadata": {},
   "source": [
    "Count"
   ]
  },
  {
   "cell_type": "code",
   "execution_count": 3,
   "id": "d3f803d7",
   "metadata": {},
   "outputs": [],
   "source": [
    "#Select Count (*)\n",
    "#From __"
   ]
  },
  {
   "cell_type": "markdown",
   "id": "2bfd2294",
   "metadata": {},
   "source": [
    "## Filtering results"
   ]
  },
  {
   "cell_type": "code",
   "execution_count": 4,
   "id": "44b94d7e",
   "metadata": {},
   "outputs": [],
   "source": [
    "#In SQL, the WHERE keyword allows you to filter based on both text and numeric values in a table. There are a few different comparison operators you can use:\n",
    "\n",
    "#= equal\n",
    "#<> not equal\n",
    "#< less than\n",
    "#> greater than\n",
    "#<= less than or equal to\n",
    "#>= greater than or equal to\n"
   ]
  },
  {
   "cell_type": "code",
   "execution_count": 7,
   "id": "d2c6a34f",
   "metadata": {},
   "outputs": [],
   "source": [
    "#SELECT __\n",
    "#FROM __\n",
    "#WHERE __ = __;"
   ]
  },
  {
   "cell_type": "code",
   "execution_count": 8,
   "id": "f19ed661",
   "metadata": {},
   "outputs": [],
   "source": [
    "#SELECT __\n",
    "#FROM __\n",
    "#WHERE (__ = __ OR __=__)\n",
    "#AND (__ = '__' OR __ = '__')"
   ]
  },
  {
   "cell_type": "code",
   "execution_count": 9,
   "id": "d78a4bc7",
   "metadata": {},
   "outputs": [],
   "source": [
    "#SELECT __\n",
    "#FROM __\n",
    "#WHERE __\n",
    "#BETWEEN __ AND __"
   ]
  },
  {
   "cell_type": "code",
   "execution_count": 10,
   "id": "207e71e0",
   "metadata": {},
   "outputs": [],
   "source": [
    "#SELECT COUNT(*)\n",
    "#FROM__\n",
    "#WHERE __ IS NULL"
   ]
  },
  {
   "cell_type": "markdown",
   "id": "6f278e9f",
   "metadata": {},
   "source": [
    "## Order by"
   ]
  },
  {
   "cell_type": "markdown",
   "id": "422a8747",
   "metadata": {},
   "source": [
    "In SQL, the ORDER BY keyword is used to sort results in ascending or descending order according to the values of one or more columns.\n",
    "\n",
    "By default ORDER BY will sort in ascending order. If you want to sort the results in descending order, you can use the DESC keyword"
   ]
  },
  {
   "cell_type": "code",
   "execution_count": 11,
   "id": "a667c9fb",
   "metadata": {},
   "outputs": [],
   "source": [
    "#SELECT __\n",
    "#FROM __\n",
    "#ORDER BY __ DESC"
   ]
  },
  {
   "cell_type": "markdown",
   "id": "ee0feaac",
   "metadata": {},
   "source": [
    "## Group by"
   ]
  },
  {
   "cell_type": "code",
   "execution_count": 12,
   "id": "2335957c",
   "metadata": {},
   "outputs": [],
   "source": [
    "#SELECT __\n",
    "#FROM __\n",
    "#group BY __ "
   ]
  }
 ],
 "metadata": {
  "kernelspec": {
   "display_name": "Python 3",
   "language": "python",
   "name": "python3"
  },
  "language_info": {
   "codemirror_mode": {
    "name": "ipython",
    "version": 3
   },
   "file_extension": ".py",
   "mimetype": "text/x-python",
   "name": "python",
   "nbconvert_exporter": "python",
   "pygments_lexer": "ipython3",
   "version": "3.8.8"
  }
 },
 "nbformat": 4,
 "nbformat_minor": 5
}
